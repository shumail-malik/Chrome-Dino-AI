{
 "cells": [
  {
   "cell_type": "code",
   "execution_count": 1,
   "id": "bdaa8b44",
   "metadata": {},
   "outputs": [
    {
     "name": "stdout",
     "output_type": "stream",
     "text": [
      "Looking in indexes: https://pypi.org/simple, https://download.pytorch.org/whl/cu113\n",
      "Requirement already satisfied: torch in /Library/Frameworks/Python.framework/Versions/3.10/lib/python3.10/site-packages (1.13.1)\n",
      "Requirement already satisfied: torchvision in /Library/Frameworks/Python.framework/Versions/3.10/lib/python3.10/site-packages (0.14.1)\n",
      "Requirement already satisfied: torchaudio in /Library/Frameworks/Python.framework/Versions/3.10/lib/python3.10/site-packages (0.13.1)\n",
      "Requirement already satisfied: typing-extensions in /Library/Frameworks/Python.framework/Versions/3.10/lib/python3.10/site-packages (from torch) (4.4.0)\n",
      "Requirement already satisfied: requests in /Library/Frameworks/Python.framework/Versions/3.10/lib/python3.10/site-packages (from torchvision) (2.28.1)\n",
      "Requirement already satisfied: pillow!=8.3.*,>=5.3.0 in /Library/Frameworks/Python.framework/Versions/3.10/lib/python3.10/site-packages (from torchvision) (9.4.0)\n",
      "Requirement already satisfied: numpy in /Library/Frameworks/Python.framework/Versions/3.10/lib/python3.10/site-packages (from torchvision) (1.23.1)\n",
      "Requirement already satisfied: idna<4,>=2.5 in /Library/Frameworks/Python.framework/Versions/3.10/lib/python3.10/site-packages (from requests->torchvision) (3.4)\n",
      "Requirement already satisfied: urllib3<1.27,>=1.21.1 in /Library/Frameworks/Python.framework/Versions/3.10/lib/python3.10/site-packages (from requests->torchvision) (1.26.13)\n",
      "Requirement already satisfied: certifi>=2017.4.17 in /Library/Frameworks/Python.framework/Versions/3.10/lib/python3.10/site-packages (from requests->torchvision) (2022.12.7)\n",
      "Requirement already satisfied: charset-normalizer<3,>=2 in /Library/Frameworks/Python.framework/Versions/3.10/lib/python3.10/site-packages (from requests->torchvision) (2.1.1)\n",
      "zsh:1: no matches found: stable-baselines3[extra]\n",
      "Collecting mss\n",
      "  Downloading mss-7.0.1-py3-none-any.whl (76 kB)\n",
      "\u001b[2K     \u001b[90m━━━━━━━━━━━━━━━━━━━━━━━━━━━━━━━━━━━━━━━━\u001b[0m \u001b[32m76.8/76.8 kB\u001b[0m \u001b[31m2.4 MB/s\u001b[0m eta \u001b[36m0:00:00\u001b[0m\n",
      "\u001b[?25hCollecting pydirectinput\n",
      "  Downloading PyDirectInput-1.0.4-py3-none-any.whl (8.9 kB)\n",
      "Collecting pytesseract\n",
      "  Downloading pytesseract-0.3.10-py3-none-any.whl (14 kB)\n",
      "Requirement already satisfied: Pillow>=8.0.0 in /Library/Frameworks/Python.framework/Versions/3.10/lib/python3.10/site-packages (from pytesseract) (9.4.0)\n",
      "Requirement already satisfied: packaging>=21.3 in /Users/navyanshmahla/Library/Python/3.10/lib/python/site-packages (from pytesseract) (21.3)\n",
      "Requirement already satisfied: pyparsing!=3.0.5,>=2.0.2 in /Users/navyanshmahla/Library/Python/3.10/lib/python/site-packages (from packaging>=21.3->pytesseract) (3.0.9)\n",
      "Installing collected packages: pydirectinput, mss, pytesseract\n",
      "Successfully installed mss-7.0.1 pydirectinput-1.0.4 pytesseract-0.3.10\n"
     ]
    }
   ],
   "source": [
    "!pip3 install torch torchvision torchaudio --extra-index-url https://download.pytorch.org/whl/cu113\n",
    "!pip install stable-baselines3[extra] protobuf==3.20.* # a framework for reinforcement learning algos\n",
    "!pip install mss pydirectinput pytesseract # an optical recognition tool\n"
   ]
  },
  {
   "cell_type": "code",
   "execution_count": 2,
   "id": "4c6ff7cd",
   "metadata": {},
   "outputs": [],
   "source": [
    "#chrome://dino/\n"
   ]
  },
  {
   "cell_type": "code",
   "execution_count": 3,
   "id": "2999eb07",
   "metadata": {},
   "outputs": [],
   "source": [
    "from mss import mss\n",
    "#!pip install pyautogui\n",
    "import pyautogui as pyg\n",
    "import cv2\n",
    "import numpy as np\n",
    "import pytesseract\n"
   ]
  },
  {
   "cell_type": "code",
   "execution_count": 4,
   "id": "0688ccd8",
   "metadata": {},
   "outputs": [],
   "source": [
    "#!pip install matplotlib\n",
    "#!pip install gym\n",
    "from matplotlib import pyplot as plt\n",
    "import time\n",
    "from gym import Env\n",
    "from gym.spaces import Box, Discrete"
   ]
  },
  {
   "cell_type": "code",
   "execution_count": 132,
   "id": "30bfaf58",
   "metadata": {},
   "outputs": [],
   "source": [
    "## Building the environment\n",
    "\n",
    "class WebGame(Env):\n",
    "    def __init__(self):\n",
    "        super().__init__()\n",
    "        # Setup spaces\n",
    "        self.observation_space = Box(low=0, high=255, shape=(1,83,100), dtype=np.uint8)\n",
    "        self.action_space = Discrete(3)\n",
    "        # Capture game frames\n",
    "        self.cap = mss()\n",
    "        self.game_location = {'top': 80, 'left': 80, 'width': 500, 'height': 400}\n",
    "        self.done_location = {'top': 80, 'left': 600, 'width': 400, 'height': 70}\n",
    "        \n",
    "        \n",
    "    def step(self, action):\n",
    "        action_map = {\n",
    "            0:'space',\n",
    "            1: 'down', \n",
    "            2: 'no_op'\n",
    "        }\n",
    "        if action !=2:\n",
    "            pyg.press(action_map[action])\n",
    "\n",
    "        done, done_cap = self.get_done() \n",
    "        observation = self.get_observation()\n",
    "        reward = 1 \n",
    "        info = {}\n",
    "        return observation, reward, done, info\n",
    "        \n",
    "    \n",
    "    def reset(self):\n",
    "        time.sleep(1)\n",
    "        pyg.click(x=150, y=150)\n",
    "        pyg.press('space')\n",
    "        return self.get_observation()\n",
    "        \n",
    "    def render(self):\n",
    "        cv2.imshow('Game', self.current_frame)\n",
    "        if cv2.waitKey(1) & 0xFF == ord('q'):\n",
    "            self.close()\n",
    "         \n",
    "    def close(self):\n",
    "        cv2.destroyAllWindows()\n",
    "    \n",
    "    def get_observation(self):\n",
    "        raw = np.array(self.cap.grab(self.game_location))[:,:,:3].astype(np.uint8)\n",
    "        gray = cv2.cvtColor(raw, cv2.COLOR_BGR2GRAY)\n",
    "        resized = cv2.resize(gray, (100,83))\n",
    "        channel = np.reshape(resized, (1,83,100))\n",
    "        return channel\n",
    "    \n",
    "    def get_done(self):\n",
    "        done_cap = np.array(self.cap.grab(self.done_location))\n",
    "        done_strings = ['GAME', 'GAHE']\n",
    "        done=False\n",
    "        # if np.sum(done_cap) < 44300000:\n",
    "        #     done = True\n",
    "        done = False\n",
    "        res = pytesseract.image_to_string(done_cap)[:4]\n",
    "        if res in done_strings:\n",
    "            done = True\n",
    "        return done, done_cap"
   ]
  },
  {
   "cell_type": "code",
   "execution_count": 133,
   "id": "e06b427d",
   "metadata": {},
   "outputs": [],
   "source": [
    "env = WebGame()\n"
   ]
  },
  {
   "cell_type": "code",
   "execution_count": 134,
   "id": "97f89171",
   "metadata": {},
   "outputs": [],
   "source": [
    "obs=env.get_observation()"
   ]
  },
  {
   "cell_type": "code",
   "execution_count": 135,
   "id": "d5640124",
   "metadata": {},
   "outputs": [
    {
     "data": {
      "text/plain": [
       "<matplotlib.image.AxesImage at 0x1265ed390>"
      ]
     },
     "execution_count": 135,
     "metadata": {},
     "output_type": "execute_result"
    },
    {
     "data": {
      "image/png": "[encoded data removed]",
      "text/plain": [
       "<Figure size 640x480 with 1 Axes>"
      ]
     },
     "metadata": {},
     "output_type": "display_data"
    }
   ],
   "source": [
    "plt.imshow(cv2.cvtColor(obs[0], cv2.COLOR_GRAY2BGR))\n"
   ]
  },
  {
   "cell_type": "code",
   "execution_count": 136,
   "id": "5c011253",
   "metadata": {},
   "outputs": [],
   "source": [
    "done, done_cap = env.get_done()\n"
   ]
  },
  {
   "cell_type": "code",
   "execution_count": 137,
   "id": "67ea3062",
   "metadata": {},
   "outputs": [
    {
     "data": {
      "text/plain": [
       "<matplotlib.image.AxesImage at 0x12664b010>"
      ]
     },
     "execution_count": 137,
     "metadata": {},
     "output_type": "execute_result"
    },
    {
     "data": {
      "image/png": "[encoded data removed]",
      "text/plain": [
       "<Figure size 640x480 with 1 Axes>"
      ]
     },
     "metadata": {},
     "output_type": "display_data"
    }
   ],
   "source": [
    "plt.imshow(done_cap)\n"
   ]
  },
  {
   "cell_type": "code",
   "execution_count": 138,
   "id": "c4b9052b",
   "metadata": {},
   "outputs": [
    {
     "data": {
      "text/plain": [
       "'e\\n\\nA'"
      ]
     },
     "execution_count": 138,
     "metadata": {},
     "output_type": "execute_result"
    }
   ],
   "source": [
    "pytesseract.image_to_string(done_cap)[:4]\n"
   ]
  },
  {
   "cell_type": "code",
   "execution_count": 139,
   "id": "d2ef083b",
   "metadata": {},
   "outputs": [
    {
     "data": {
      "text/plain": [
       "False"
      ]
     },
     "execution_count": 139,
     "metadata": {},
     "output_type": "execute_result"
    }
   ],
   "source": [
    "done"
   ]
  },
  {
   "cell_type": "code",
   "execution_count": null,
   "id": "d9a9ce56",
   "metadata": {},
   "outputs": [],
   "source": [
    "for episode in range(10): \n",
    "    obs = env.reset()\n",
    "    done = False  \n",
    "    total_reward   = 0\n",
    "    while not done: \n",
    "        obs, reward,  done, info =  env.step(env.action_space.sample())\n",
    "        total_reward  += reward\n",
    "    print('Total Reward   for episode {} is {}'.format(episode, total_reward))    "
   ]
  },
  {
   "cell_type": "code",
   "execution_count": null,
   "id": "37160775",
   "metadata": {},
   "outputs": [],
   "source": [
    "# Training the model\n",
    "# \n",
    "# Creating callback\n",
    "#\n",
    "\n",
    "# Import os for file path management\n",
    "import os \n",
    "# Import Base Callback for saving models\n",
    "from stable_baselines3.common.callbacks import BaseCallback\n",
    "# Check Environment    \n",
    "from stable_baselines3.common import env_checker         "
   ]
  },
  {
   "cell_type": "code",
   "execution_count": null,
   "id": "7ea87002",
   "metadata": {},
   "outputs": [],
   "source": [
    "env_checker.check_env(env)"
   ]
  },
  {
   "cell_type": "code",
   "execution_count": null,
   "id": "4563f692",
   "metadata": {},
   "outputs": [],
   "source": [
    "class TrainAndLoggingCallback(BaseCallback):\n",
    "\n",
    "    def __init__(self, check_freq, save_path, verbose=1):\n",
    "        super(TrainAndLoggingCallback, self).__init__(verbose)\n",
    "        self.check_freq = check_freq\n",
    "        self.save_path = save_path\n",
    "\n",
    "    def _init_callback(self):\n",
    "        if self.save_path is not None:\n",
    "            os.makedirs(self.save_path, exist_ok=True)\n",
    "\n",
    "    def _on_step(self):\n",
    "        if self.n_calls % self.check_freq == 0:\n",
    "            model_path = os.path.join(self.save_path, 'best_model_{}'.format(self.n_calls))\n",
    "            self.model.save(model_path)\n",
    "\n",
    "        return True"
   ]
  },
  {
   "cell_type": "code",
   "execution_count": null,
   "id": "4675eb13",
   "metadata": {},
   "outputs": [],
   "source": [
    "CHECKPOINT_DIR = './train/'\n",
    "LOG_DIR = './logs/'"
   ]
  },
  {
   "cell_type": "code",
   "execution_count": null,
   "id": "2a1e5a47",
   "metadata": {},
   "outputs": [],
   "source": [
    "callback = TrainAndLoggingCallback(check_freq=1000, save_path=CHECKPOINT_DIR)\n"
   ]
  },
  {
   "cell_type": "code",
   "execution_count": null,
   "id": "2a9d350d",
   "metadata": {},
   "outputs": [],
   "source": [
    "# Building DQN and trainig\n",
    "\n",
    "from stable_baselines3 import DQN\n",
    "from stable_baselines3.common.monitor import Monitor\n",
    "from stable_baselines3.common.vec_env import DummyVecEnv, VecFrameStack"
   ]
  },
  {
   "cell_type": "code",
   "execution_count": null,
   "id": "8409a487",
   "metadata": {},
   "outputs": [],
   "source": [
    "env = WebGame()\n"
   ]
  },
  {
   "cell_type": "code",
   "execution_count": null,
   "id": "d6aa9b98",
   "metadata": {},
   "outputs": [],
   "source": [
    "model = DQN('CnnPolicy', env, tensorboard_log=LOG_DIR, verbose=1, buffer_size=1200000, learning_starts=1000)\n"
   ]
  },
  {
   "cell_type": "code",
   "execution_count": null,
   "id": "db31b6b5",
   "metadata": {},
   "outputs": [],
   "source": [
    "model.learn(total_timesteps=100000, callback=callback)\n"
   ]
  },
  {
   "cell_type": "code",
   "execution_count": null,
   "id": "4a7691c3",
   "metadata": {},
   "outputs": [],
   "source": [
    "model.load('train_first/best_mode l_50000') \n"
   ]
  },
  {
   "cell_type": "code",
   "execution_count": null,
   "id": "3fffcf2e",
   "metadata": {},
   "outputs": [],
   "source": [
    "# Testing out the model\n",
    "\n",
    "for episode in range(5): \n",
    "    obs = env.reset()\n",
    "    done = False\n",
    "    total_reward = 0\n",
    "    while not done: \n",
    "        action, _ = model.predict(obs)\n",
    "        obs, reward, done, info = env.step(int(action))\n",
    "        time.sleep(0.01)\n",
    "        total_reward += reward\n",
    "    print('Total Reward for episode {} is {}'.format(episode, total_reward))\n",
    "    time.sleep(2)"
   ]
  }
 ],
 "metadata": {
  "kernelspec": {
   "display_name": "Python 3 (ipykernel)",
   "language": "python",
   "name": "python3"
  },
  "language_info": {
   "codemirror_mode": {
    "name": "ipython",
    "version": 3
   },
   "file_extension": ".py",
   "mimetype": "text/x-python",
   "name": "python",
   "nbconvert_exporter": "python",
   "pygments_lexer": "ipython3",
   "version": "3.10.5"
  }
 },
 "nbformat": 4,
 "nbformat_minor": 5
}
